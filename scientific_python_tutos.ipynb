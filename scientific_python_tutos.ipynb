{
  "nbformat": 4,
  "nbformat_minor": 0,
  "metadata": {
    "colab": {
      "provenance": [],
      "toc_visible": true,
      "authorship_tag": "ABX9TyMqakEpZqXNDJP+qXxPuM+N",
      "include_colab_link": true
    },
    "kernelspec": {
      "name": "python3",
      "display_name": "Python 3"
    },
    "language_info": {
      "name": "python"
    }
  },
  "cells": [
    {
      "cell_type": "markdown",
      "metadata": {
        "id": "view-in-github",
        "colab_type": "text"
      },
      "source": [
        "<a href=\"https://colab.research.google.com/github/badiibayoudh/Azure_AZ-204_Developing-solutions/blob/main/scientific_python_tutos.ipynb\" target=\"_parent\"><img src=\"https://colab.research.google.com/assets/colab-badge.svg\" alt=\"Open In Colab\"/></a>"
      ]
    },
    {
      "cell_type": "markdown",
      "source": [
        "### numpy\n"
      ],
      "metadata": {
        "id": "qu_SKXzve7wU"
      }
    },
    {
      "cell_type": "markdown",
      "source": [
        "### Mathplotlib"
      ],
      "metadata": {
        "id": "hzCbc5lxfbcd"
      }
    },
    {
      "cell_type": "markdown",
      "source": [
        "### Panda"
      ],
      "metadata": {
        "id": "cnwwMqCrfmH9"
      }
    }
  ]
}